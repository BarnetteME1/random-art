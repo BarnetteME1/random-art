{
 "cells": [
  {
   "cell_type": "code",
   "execution_count": 87,
   "metadata": {
    "collapsed": true
   },
   "outputs": [],
   "source": [
    "def blue_duck():\n",
    "    w = lambda x, y: abs((math.sin(random.random() ** random.random()) * math.cos(y)) - math.cos(math.tan(x + y)))\n",
    "    z = lambda x, y: abs(math.cos(x + math.sin((random.random() / y) ** random.random()) * math.tan(w(random.randrange(25), y))))\n",
    "    return z"
   ]
  },
  {
   "cell_type": "code",
   "execution_count": 88,
   "metadata": {
    "collapsed": false
   },
   "outputs": [
    {
     "data": {
      "text/plain": [
       "<function __main__.blue_duck.<locals>.<lambda>>"
      ]
     },
     "execution_count": 88,
     "metadata": {},
     "output_type": "execute_result"
    }
   ],
   "source": [
    "blue_duck()"
   ]
  },
  {
   "cell_type": "code",
   "execution_count": 12,
   "metadata": {
    "collapsed": true
   },
   "outputs": [],
   "source": [
    "def create_expression():\n",
    "    \"\"\"This function takes no arguments and returns an expression that\n",
    "    generates a number between -1.0 and 1.0, given x and y coordinates.\"\"\"\n",
    "    expr = blue_duck()\n",
    "    return expr"
   ]
  },
  {
   "cell_type": "code",
   "execution_count": 27,
   "metadata": {
    "collapsed": false
   },
   "outputs": [
    {
     "data": {
      "text/plain": [
       "<function __main__.blue_duck.<locals>.<lambda>>"
      ]
     },
     "execution_count": 27,
     "metadata": {},
     "output_type": "execute_result"
    }
   ],
   "source": [
    "import math\n",
    "import random\n",
    "create_expression()"
   ]
  },
  {
   "cell_type": "code",
   "execution_count": 41,
   "metadata": {
    "collapsed": false
   },
   "outputs": [],
   "source": [
    "x = 2\n",
    "y = 3\n",
    "w = lambda x, y: abs((math.sin(random.random() ** random.random()) * math.cos(y)) - math.cos(math.tan(x + y)))\n",
    "z = (lambda x, y: math.cos(x + math.sin(y) * math.tan(w(x, y))))"
   ]
  },
  {
   "cell_type": "code",
   "execution_count": 42,
   "metadata": {
    "collapsed": false
   },
   "outputs": [
    {
     "name": "stdout",
     "output_type": "stream",
     "text": [
      "0.08793556645343237\n",
      "0.8268131593431026\n"
     ]
    }
   ],
   "source": [
    "print(w(.34123, .098341))\n",
    "print(z(.5423, .23415))"
   ]
  },
  {
   "cell_type": "code",
   "execution_count": 89,
   "metadata": {
    "collapsed": true
   },
   "outputs": [],
   "source": [
    "z = lambda x, y: abs(math.cos(x * math.sin(y + math.tan(w))) * math.cos(w))"
   ]
  },
  {
   "cell_type": "code",
   "execution_count": 131,
   "metadata": {
    "collapsed": false
   },
   "outputs": [],
   "source": [
    "def w(x, y):\n",
    "    return abs((math.sin(random.random() ** random.random()) * math.cos(y)) - math.cos(math.tan(x + y)))\n",
    "\n",
    "def q(x, y):\n",
    "    double_u = w(x, y)\n",
    "    return abs(math.cos(x + math.sin((random.random() * (y + x * math.pi)) ** random.randint(1,7)) * math.tan(w(random.randrange(25), y))))"
   ]
  },
  {
   "cell_type": "code",
   "execution_count": 133,
   "metadata": {
    "collapsed": false
   },
   "outputs": [
    {
     "ename": "SyntaxError",
     "evalue": "invalid syntax (<ipython-input-133-31a809a498f2>, line 1)",
     "output_type": "error",
     "traceback": [
      "\u001b[0;36m  File \u001b[0;32m\"<ipython-input-133-31a809a498f2>\"\u001b[0;36m, line \u001b[0;32m1\u001b[0m\n\u001b[0;31m    random.choice([+, -, *])\u001b[0m\n\u001b[0m                    ^\u001b[0m\n\u001b[0;31mSyntaxError\u001b[0m\u001b[0;31m:\u001b[0m invalid syntax\n"
     ]
    }
   ],
   "source": [
    "random.choice([+, -, *])"
   ]
  },
  {
   "cell_type": "code",
   "execution_count": 103,
   "metadata": {
    "collapsed": false
   },
   "outputs": [
    {
     "data": {
      "text/plain": [
       "<function __main__.<lambda>>"
      ]
     },
     "execution_count": 103,
     "metadata": {},
     "output_type": "execute_result"
    }
   ],
   "source": [
    "w"
   ]
  },
  {
   "cell_type": "code",
   "execution_count": 150,
   "metadata": {
    "collapsed": false
   },
   "outputs": [
    {
     "name": "stdout",
     "output_type": "stream",
     "text": [
      "42.94011220646039\n",
      "5.646665186128161\n",
      "36.181321872403686\n",
      "7.588459320803684\n",
      "47.46616486634289\n",
      "9.28960463563688\n",
      "92.13071170982583\n",
      "67.2557323771716\n",
      "32.13986413171649\n",
      "23.053905506440437\n"
     ]
    }
   ],
   "source": [
    "n = 0\n",
    "while n < 10:\n",
    "    print(random.uniform(1, 100))\n",
    "    n += 1"
   ]
  },
  {
   "cell_type": "code",
   "execution_count": 275,
   "metadata": {
    "collapsed": false
   },
   "outputs": [],
   "source": [
    "def modnar(x, y):\n",
    "    z = abs(x ** (1/abs(y)))\n",
    "    return z % .134"
   ]
  },
  {
   "cell_type": "code",
   "execution_count": 350,
   "metadata": {
    "collapsed": false
   },
   "outputs": [
    {
     "data": {
      "text/plain": [
       "0.038908008247757864"
      ]
     },
     "execution_count": 350,
     "metadata": {},
     "output_type": "execute_result"
    }
   ],
   "source": [
    "modnar(random.gauss(0, 1), random.gauss(0,1))"
   ]
  },
  {
   "cell_type": "code",
   "execution_count": null,
   "metadata": {
    "collapsed": true
   },
   "outputs": [],
   "source": []
  }
 ],
 "metadata": {
  "kernelspec": {
   "display_name": "Python 3",
   "language": "python",
   "name": "python3"
  },
  "language_info": {
   "codemirror_mode": {
    "name": "ipython",
    "version": 3
   },
   "file_extension": ".py",
   "mimetype": "text/x-python",
   "name": "python",
   "nbconvert_exporter": "python",
   "pygments_lexer": "ipython3",
   "version": "3.5.0"
  }
 },
 "nbformat": 4,
 "nbformat_minor": 0
}
